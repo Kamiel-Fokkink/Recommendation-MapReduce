{
 "cells": [
  {
   "cell_type": "code",
   "execution_count": 1,
   "id": "44e12418",
   "metadata": {},
   "outputs": [],
   "source": [
    "# Make necessary imports\n",
    "from pyspark import SparkConf\n",
    "from pyspark.context import SparkContext"
   ]
  },
  {
   "cell_type": "code",
   "execution_count": 2,
   "id": "00ab8747",
   "metadata": {
    "scrolled": true
   },
   "outputs": [
    {
     "name": "stderr",
     "output_type": "stream",
     "text": [
      "22/02/11 04:00:44 WARN Utils: Your hostname, Kamiels-MacBook-Air.local resolves to a loopback address: 127.0.0.1; using 129.104.243.21 instead (on interface en0)\n",
      "22/02/11 04:00:44 WARN Utils: Set SPARK_LOCAL_IP if you need to bind to another address\n",
      "Using Spark's default log4j profile: org/apache/spark/log4j-defaults.properties\n",
      "Setting default log level to \"WARN\".\n",
      "To adjust logging level use sc.setLogLevel(newLevel). For SparkR, use setLogLevel(newLevel).\n",
      "22/02/11 04:00:44 WARN NativeCodeLoader: Unable to load native-hadoop library for your platform... using builtin-java classes where applicable\n"
     ]
    }
   ],
   "source": [
    "sc = SparkContext.getOrCreate(SparkConf().setMaster(\"local[*]\"))"
   ]
  },
  {
   "cell_type": "code",
   "execution_count": 3,
   "id": "1fca708e",
   "metadata": {},
   "outputs": [],
   "source": [
    "class MRAlgorithm:\n",
    "    def __init__(self, datapath):\n",
    "        self.sc = SparkContext.getOrCreate(SparkConf().setMaster(\"local[*]\"))\n",
    "        self.input = self.sc.textFile(datapath).map(lambda x: (int(x.split(',')[0]),\n",
    "                                                               int(x.split(',')[1]),int(x.split(',')[2])))\n",
    "        \n",
    "    def compute_W(self):\n",
    "        print(\"Compute W\")\n",
    "        \n",
    "    def compute_H(self):\n",
    "        print(\"Compute H\")\n",
    "        \n",
    "        # Define dummy H to continue with next operations\n",
    "        self.H = self.sc.parallelize([(1, [0.2,0.3,0.5]), (2, [0.1,0.7,0.2]), (3, [0.4,0.3,0.3]), (4, [0.5,0.1,0.4])])\n",
    "        \n",
    "    def assign_clusters(self):\n",
    "        #M10: Map user to cluster with highest probability\n",
    "        self.clusters = self.H.map(lambda x: (x[0], x[1].index(max(x[1]))))\n",
    "        \n",
    "        #M11: Emit a 1 for each user that is in a cluster\n",
    "        self.clustersizes = self.clusters.map(lambda x: (x[1], 1))\n",
    "        \n",
    "        #R11: Count the number of users per cluster\n",
    "        self.clustersizes = self.clustersizes.reduceByKey(lambda x,y: x+y)\n",
    "        \n",
    "    def RM2_distribution(self):\n",
    "        #M12: Emit each rating that a user gave\n",
    "        self.ratings = self.input.map(lambda x: (x[1], x[2]))\n",
    "        \n",
    "        #R12: Sum ratings given by user\n",
    "        self.ratings = self.ratings.reduceByKey(lambda x,y: x+y)"
   ]
  },
  {
   "cell_type": "code",
   "execution_count": 4,
   "id": "ea8c8141",
   "metadata": {},
   "outputs": [
    {
     "name": "stdout",
     "output_type": "stream",
     "text": [
      "Compute H\n"
     ]
    }
   ],
   "source": [
    "Algorithm = MRAlgorithm('../data/small_dataset.txt')\n",
    "Algorithm.compute_H()\n",
    "Algorithm.assign_clusters()\n",
    "Algorithm.RM2_distribution()"
   ]
  },
  {
   "cell_type": "code",
   "execution_count": 5,
   "id": "0822ee04",
   "metadata": {},
   "outputs": [
    {
     "name": "stderr",
     "output_type": "stream",
     "text": [
      "                                                                                \r"
     ]
    },
    {
     "data": {
      "text/plain": [
       "[(1, 1488844, 3),\n",
       " (1, 822109, 5),\n",
       " (1, 885013, 4),\n",
       " (1, 30878, 4),\n",
       " (1, 823519, 3),\n",
       " (1, 893988, 3),\n",
       " (1, 124105, 4),\n",
       " (1, 1248029, 3),\n",
       " (1, 1842128, 4),\n",
       " (1, 2238063, 3)]"
      ]
     },
     "execution_count": 5,
     "metadata": {},
     "output_type": "execute_result"
    }
   ],
   "source": [
    "Algorithm.input.take(10)"
   ]
  },
  {
   "cell_type": "code",
   "execution_count": 6,
   "id": "fb3a84cc",
   "metadata": {},
   "outputs": [
    {
     "data": {
      "text/plain": [
       "[(1, 2), (2, 1), (3, 0), (4, 0)]"
      ]
     },
     "execution_count": 6,
     "metadata": {},
     "output_type": "execute_result"
    }
   ],
   "source": [
    "Algorithm.clusters.collect()"
   ]
  },
  {
   "cell_type": "code",
   "execution_count": 7,
   "id": "7ccb5b1a",
   "metadata": {},
   "outputs": [
    {
     "name": "stderr",
     "output_type": "stream",
     "text": [
      "                                                                                \r"
     ]
    },
    {
     "data": {
      "text/plain": [
       "[(0, 2), (1, 1), (2, 1)]"
      ]
     },
     "execution_count": 7,
     "metadata": {},
     "output_type": "execute_result"
    }
   ],
   "source": [
    "Algorithm.clustersizes.collect()"
   ]
  },
  {
   "cell_type": "code",
   "execution_count": 8,
   "id": "4393a3e1",
   "metadata": {},
   "outputs": [
    {
     "data": {
      "text/plain": [
       "[(1488844, 9), (30878, 8), (893988, 3), (1842128, 4), (2207774, 5)]"
      ]
     },
     "execution_count": 8,
     "metadata": {},
     "output_type": "execute_result"
    }
   ],
   "source": [
    "Algorithm.ratings.take(5)"
   ]
  },
  {
   "cell_type": "code",
   "execution_count": null,
   "id": "67a1e41f",
   "metadata": {},
   "outputs": [],
   "source": []
  }
 ],
 "metadata": {
  "kernelspec": {
   "display_name": "Python 3 (ipykernel)",
   "language": "python",
   "name": "python3"
  },
  "language_info": {
   "codemirror_mode": {
    "name": "ipython",
    "version": 3
   },
   "file_extension": ".py",
   "mimetype": "text/x-python",
   "name": "python",
   "nbconvert_exporter": "python",
   "pygments_lexer": "ipython3",
   "version": "3.8.12"
  }
 },
 "nbformat": 4,
 "nbformat_minor": 5
}
