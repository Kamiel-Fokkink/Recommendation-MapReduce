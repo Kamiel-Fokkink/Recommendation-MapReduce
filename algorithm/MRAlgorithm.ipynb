{
 "cells": [
  {
   "cell_type": "code",
   "execution_count": 1,
   "id": "1a097ba2",
   "metadata": {},
   "outputs": [],
   "source": [
    "# Make necessary imports\n",
    "from pyspark import SparkConf\n",
    "from pyspark.context import SparkContext\n",
    "from pyspark.mllib.random import RandomRDDs\n",
    "from pyspark.sql import SQLContext\n",
    "from pyspark import sql\n",
    "import numpy as np"
   ]
  },
  {
   "cell_type": "code",
   "execution_count": 2,
   "id": "e9b61918",
   "metadata": {
    "scrolled": true
   },
   "outputs": [
    {
     "name": "stderr",
     "output_type": "stream",
     "text": [
      "22/03/05 15:08:03 WARN Utils: Your hostname, Kamiels-MacBook-Air.local resolves to a loopback address: 127.0.0.1; using 129.104.246.162 instead (on interface en0)\n",
      "22/03/05 15:08:03 WARN Utils: Set SPARK_LOCAL_IP if you need to bind to another address\n",
      "Using Spark's default log4j profile: org/apache/spark/log4j-defaults.properties\n",
      "Setting default log level to \"WARN\".\n",
      "To adjust logging level use sc.setLogLevel(newLevel). For SparkR, use setLogLevel(newLevel).\n",
      "22/03/05 15:08:04 WARN NativeCodeLoader: Unable to load native-hadoop library for your platform... using builtin-java classes where applicable\n",
      "22/03/05 15:08:05 WARN Utils: Service 'SparkUI' could not bind on port 4040. Attempting port 4041.\n",
      "22/03/05 15:08:05 WARN Utils: Service 'SparkUI' could not bind on port 4041. Attempting port 4042.\n",
      "/Users/kamielfokkink/opt/anaconda3/envs/Databases/lib/python3.8/site-packages/pyspark/sql/context.py:77: FutureWarning: Deprecated in 3.0.0. Use SparkSession.builder.getOrCreate() instead.\n",
      "  warnings.warn(\n"
     ]
    }
   ],
   "source": [
    "sc = SparkContext.getOrCreate(SparkConf().setMaster(\"local[*]\"))\n",
    "sqlContext = sql.SQLContext(sc) #?"
   ]
  },
  {
   "cell_type": "code",
   "execution_count": 2,
   "id": "c187d2ae",
   "metadata": {},
   "outputs": [],
   "source": [
    "def normalization(x):\n",
    "    s = sum(x[1])\n",
    "    s_last = 0\n",
    "    x_new = []\n",
    "    for i in range(len(x[1])-1):\n",
    "        x_new.append(x[1][i] / s)\n",
    "        s_last += x_new[i]\n",
    "    x_new.append(1 - s_last)\n",
    "    return (x[0], np.array(x_new))\n",
    "\n",
    "def create_uniform_rdd_rowindexed_matrix(sc, nrow, ncol, normalize=False):\n",
    "    rdd = []\n",
    "    for i in range(nrow):\n",
    "        rdd.append((i, np.random.rand(ncol)))\n",
    "    #print(rdd)\n",
    "    rdd = sc.parallelize(rdd)\n",
    "    if normalize:\n",
    "        rdd = rdd.map(normalization)\n",
    "    return rdd"
   ]
  },
  {
   "cell_type": "code",
   "execution_count": 4,
   "id": "9acc0d6e",
   "metadata": {
    "scrolled": true
   },
   "outputs": [
    {
     "name": "stderr",
     "output_type": "stream",
     "text": [
      "                                                                                \r"
     ]
    },
    {
     "data": {
      "text/plain": [
       "[(0, array([0.34860894, 0.16783557, 0.35134763, 0.13220786])),\n",
       " (1, array([0.10822922, 0.3555388 , 0.32625561, 0.20997637])),\n",
       " (2, array([0.02984418, 0.29335671, 0.33616264, 0.34063647])),\n",
       " (3, array([0.0272727 , 0.07928486, 0.63217075, 0.2612717 ]))]"
      ]
     },
     "execution_count": 4,
     "metadata": {},
     "output_type": "execute_result"
    }
   ],
   "source": [
    "H = create_uniform_rdd_rowindexed_matrix(sc, 4, 4, normalize=True)\n",
    "H.collect()"
   ]
  },
  {
   "cell_type": "code",
   "execution_count": 3,
   "id": "35b6d871",
   "metadata": {},
   "outputs": [],
   "source": [
    "def update_h(hxy_tuple):\n",
    "    h, x, y = hxy_tuple\n",
    "    d = h * y \n",
    "    e = h * x\n",
    "    #h_new = h * (x+d) / (y+e)\n",
    "    h_new = h * np.divide(x+d, y+e)\n",
    "    return h_new"
   ]
  },
  {
   "cell_type": "code",
   "execution_count": 4,
   "id": "2d67a647",
   "metadata": {},
   "outputs": [],
   "source": [
    "class MRAlgorithm:\n",
    "    \n",
    "    def __init__(self, datapath, k):\n",
    "        self.k = k\n",
    "        self.n = 2649429\n",
    "        self.m = 17770\n",
    "        self.sc = SparkContext.getOrCreate(SparkConf().setMaster(\"local[*]\"))\n",
    "        self.input = self.sc.textFile(datapath).map(lambda x: (int(x.split(',')[0])-1,\n",
    "                                                               int(x.split(',')[1])-1,int(x.split(',')[2])))\n",
    "        self.A = self.input\n",
    "        self.H = create_uniform_rdd_rowindexed_matrix(self.sc, self.n, self.k, normalize=True)\n",
    "        self.W = create_uniform_rdd_rowindexed_matrix(self.sc, self.m, self.k)\n",
    "        \n",
    "    def compute_H(self):\n",
    "        print(\"Compute H\")\n",
    "    \n",
    "        ## compute X\n",
    "        # M1\n",
    "        W_b = self.sc.broadcast(self.W.collect()) # a dictionary where the key is the index i\n",
    "        Aw = self.A.map(lambda x: (x[1], x[2]*W_b.value[x[0]][1])) #Wi.T\n",
    "        #print(Aw.collect())\n",
    "        # R1 \n",
    "        X = Aw.reduceByKey(lambda x, y: x+y) # add a combiner? #.map(lambda x: (x[0], x[1]))\n",
    "    \n",
    "        \n",
    "        ## compute B\n",
    "        # M2\n",
    "        self.ww = self.W.map(lambda x: (None, x[1]@x[1].T)) # w.T.dot(w)? #import numpy.linalg\n",
    "        # from pyspark.mllib.linalg.distributed import *\n",
    "        # as_block_matrix(w.T).multiply(as_block_matrix(w))\n",
    "        # https://stackoverflow.com/questions/37766213/spark-matrix-multiplication-with-python\n",
    "        # R2\n",
    "        self.B = self.ww.reduceByKey(lambda x, y: x+y).map(lambda x: x[1]) # without map?\n",
    "        \n",
    "        ## compute Y\n",
    "        # M3\n",
    "        self.B_b = self.sc.broadcast(self.B.collect())\n",
    "        self.y = self.H.map(lambda x: (x[0], self.B_b.value@x[1]))\n",
    "        \n",
    "        ## update H\n",
    "        # M4\n",
    "        #self.hxj = self.H.join(self.y).join(self.X)\n",
    "        self.hxj = self.H.join(self.y).join(X)\n",
    "        # R4\n",
    "        # why is it a reduce phase instead of a map phase?\n",
    "        self.hnew = self.hxj.reduceByKey(lambda x: (x[0], update_h(x[1])))\n",
    "        print(self.hnew)\n",
    "        self.H = self.hnew\n",
    "        \n",
    "    def compute_W(self):\n",
    "        print(\"Compute W\")\n",
    "        #M5: Compute matrix S (repartition join of H and A)\n",
    "        tmp_M5 = self.H.join(self.A.map(lambda x: (x[1], (x[0], x[2]))))\n",
    "\n",
    "        #R5: Emit each hj according to row i\n",
    "        tmp_M5 = tmp_M5.map(lambda x: (x[1][1][0], x[1][1][1] * x[1][0]))\n",
    "\n",
    "        \n",
    "        \n",
    "        #M6: Finish the computation of matrix S -- identity mapper so no code needed\n",
    "        #R6: Emit each row in matrix S\n",
    "        S = tmp_M5.reduceByKey(lambda x, y : x +y)\n",
    "\n",
    "        \n",
    "        #M7: Calculate matrix C (same as calculating B in compute_H)\n",
    "        tmp_M7 = self.H.map(lambda x: (0, np.outer(x[1], x[1].T)))\n",
    "        #R7: Emit matrix C from the sum of matrices\n",
    "        C = tmp_M7.reduceByKey(lambda x, y : x +y).map(lambda x: x[1])\n",
    "        \n",
    "        #M8: Compute matrix T\n",
    "        C_b = self.sc.broadcast(C.collect())\n",
    "        T = self.W.map(lambda x: (x[0], x[1]@C_b.value))\n",
    "        \n",
    "\n",
    "        #M9: update W with broadcast join of S and T. W = W * S/T\n",
    "        T_b = self.sc.broadcast(T.collectAsMap())\n",
    "        S_b = self.sc.broadcast(S.collectAsMap())\n",
    "        self.W = self.W.map(lambda x: (x[0], x[1]*np.divide(S_b.value[x[0]], T_b.value[x[0]])))\n",
    "\n",
    "        \n",
    "    def assign_clusters(self):\n",
    "        #M10: Map user to cluster with highest probability\n",
    "        #self.clusters = self.H.map(lambda x: (x[0], x[1].index(max(x[1]))))\n",
    "        self.clusters = self.H.map(lambda x: (x[0], np.where(x[1] == max(x[1]))))\n",
    "        \n",
    "        #M11: Emit a 1 for each user that is in a cluster\n",
    "        self.clustersizes = self.clusters.map(lambda x: (x[1], 1))\n",
    "        \n",
    "        #R11: Count the number of users per cluster\n",
    "        self.clustersizes = self.clustersizes.reduceByKey(lambda x,y: x+y)\n",
    "        \n",
    "    def RM2_distribution(self):\n",
    "        #M12: Emit each rating that a user gave\n",
    "        self.ratings = self.input.map(lambda x: (x[1], x[2]))\n",
    "        \n",
    "        #R12: Sum ratings given by user\n",
    "        self.ratings = self.ratings.reduceByKey(lambda x, y: x+y)\n",
    "        \n",
    "        #Accumulator containing total count of ratings\n",
    "        globalcount = self.sc.accumulator(0)\n",
    "        self.ratings.foreach(lambda x: globalcount.add(x[1]))\n",
    "        \n",
    "        #M13: Emit each rating that an item received\n",
    "        self.items = self.input.map(lambda x: (x[0], x[2]))\n",
    "        \n",
    "        #Broadcast the total count of ratings, to be used in next reduce\n",
    "        globalcount = self.sc.broadcast(globalcount.value)\n",
    "        \n",
    "        #R13: Compute the probability of item in the collection\n",
    "        self.items = self.items.reduceByKey(lambda x,y: x+y)\n",
    "        \n",
    "        #Divide previous values by the total count of ratings, to normalize probabilities\n",
    "        self.items = self.items.map(lambda x: (x[0], x[1]/globalcount.value))\n",
    "        \n",
    "        #Broadcast all users and which cluster they are in\n",
    "        clusters = self.sc.broadcast(self.clusters.collectAsMap())\n",
    "        \n",
    "        #M14-a: Map each rating from input to the cluster assigned to user\n",
    "        self.input2cluster = self.input.map(lambda x: (clusters[x[1]], (x[1], x[0], x[2])))\n",
    "        \n",
    "        #M14-b: Map sum of ratings of a user to their assigned cluster\n",
    "        self.ratings2cluster = self.ratings.map(lambda x: (clusters[x[0]], (x[0], x[1])))\n",
    "        \n",
    "        #Repartition join these two maps by cluster\n",
    "        self.fullClusters = self.input2cluster.join(self.ratings2cluster)\n",
    "        \n",
    "        #Broadcast sizes of the clusters\n",
    "        clustersizes = self.sc.broadcast(self.clustersizes.collectAsMap())\n",
    "        \n",
    "        #Broadcast probabilities of each item\n",
    "        items = self.sc.broadcast(self.items.collectAsMap())\n",
    "        \n",
    "        #Final reduce combines all information from above, needs W and H"
   ]
  },
  {
   "cell_type": "code",
   "execution_count": null,
   "id": "fb09fee4",
   "metadata": {},
   "outputs": [
    {
     "name": "stderr",
     "output_type": "stream",
     "text": [
      "22/03/05 15:13:09 WARN Utils: Your hostname, Kamiels-MacBook-Air.local resolves to a loopback address: 127.0.0.1; using 129.104.246.162 instead (on interface en0)\n",
      "22/03/05 15:13:09 WARN Utils: Set SPARK_LOCAL_IP if you need to bind to another address\n",
      "Using Spark's default log4j profile: org/apache/spark/log4j-defaults.properties\n",
      "Setting default log level to \"WARN\".\n",
      "To adjust logging level use sc.setLogLevel(newLevel). For SparkR, use setLogLevel(newLevel).\n",
      "22/03/05 15:13:09 WARN NativeCodeLoader: Unable to load native-hadoop library for your platform... using builtin-java classes where applicable\n",
      "22/03/05 15:13:10 WARN Utils: Service 'SparkUI' could not bind on port 4040. Attempting port 4041.\n",
      "22/03/05 15:13:10 WARN Utils: Service 'SparkUI' could not bind on port 4041. Attempting port 4042.\n"
     ]
    }
   ],
   "source": [
    "Algorithm = MRAlgorithm('../data/small_dataset.txt', k=5)\n",
    "#Algorithm.compute_H()\n",
    "Algorithm.compute_W()\n",
    "Algorithm.assign_clusters()\n",
    "Algorithm.RM2_distribution()"
   ]
  },
  {
   "cell_type": "code",
   "execution_count": 51,
   "id": "b681e18e",
   "metadata": {},
   "outputs": [
    {
     "data": {
      "text/plain": [
       "[(1, 1488844, 3),\n",
       " (1, 822109, 5),\n",
       " (1, 885013, 4),\n",
       " (1, 30878, 4),\n",
       " (1, 823519, 3),\n",
       " (1, 893988, 3),\n",
       " (1, 124105, 4),\n",
       " (1, 1248029, 3),\n",
       " (1, 1842128, 4),\n",
       " (1, 2238063, 3)]"
      ]
     },
     "execution_count": 51,
     "metadata": {},
     "output_type": "execute_result"
    }
   ],
   "source": [
    "Algorithm.input.take(10)"
   ]
  },
  {
   "cell_type": "code",
   "execution_count": 52,
   "id": "b0ed0f07",
   "metadata": {},
   "outputs": [
    {
     "data": {
      "text/plain": [
       "{1: 2, 2: 1, 3: 0, 4: 0}"
      ]
     },
     "execution_count": 52,
     "metadata": {},
     "output_type": "execute_result"
    }
   ],
   "source": [
    "Algorithm.clusters.collectAsMap()"
   ]
  },
  {
   "cell_type": "code",
   "execution_count": 53,
   "id": "33d31099",
   "metadata": {},
   "outputs": [
    {
     "data": {
      "text/plain": [
       "[(0, 2), (1, 1), (2, 1)]"
      ]
     },
     "execution_count": 53,
     "metadata": {},
     "output_type": "execute_result"
    }
   ],
   "source": [
    "Algorithm.clustersizes.collect()"
   ]
  },
  {
   "cell_type": "code",
   "execution_count": 54,
   "id": "5ffab1b8",
   "metadata": {},
   "outputs": [
    {
     "data": {
      "text/plain": [
       "[(1488844, 9), (30878, 8), (893988, 3), (1842128, 4), (2207774, 5)]"
      ]
     },
     "execution_count": 54,
     "metadata": {},
     "output_type": "execute_result"
    }
   ],
   "source": [
    "Algorithm.ratings.take(5)"
   ]
  },
  {
   "cell_type": "code",
   "execution_count": 55,
   "id": "41d3a83d",
   "metadata": {},
   "outputs": [
    {
     "data": {
      "text/plain": [
       "[(2, 0.0031263442977540004),\n",
       " (4, 0.002356875836872686),\n",
       " (6, 0.019042829705117875),\n",
       " (8, 0.2881568503898842),\n",
       " (10, 0.004798574968645675)]"
      ]
     },
     "execution_count": 55,
     "metadata": {},
     "output_type": "execute_result"
    }
   ],
   "source": [
    "Algorithm.items.take(5)"
   ]
  },
  {
   "cell_type": "code",
   "execution_count": null,
   "id": "14104ad8",
   "metadata": {},
   "outputs": [],
   "source": []
  }
 ],
 "metadata": {
  "kernelspec": {
   "display_name": "Python 3 (ipykernel)",
   "language": "python",
   "name": "python3"
  },
  "language_info": {
   "codemirror_mode": {
    "name": "ipython",
    "version": 3
   },
   "file_extension": ".py",
   "mimetype": "text/x-python",
   "name": "python",
   "nbconvert_exporter": "python",
   "pygments_lexer": "ipython3",
   "version": "3.8.12"
  }
 },
 "nbformat": 4,
 "nbformat_minor": 5
}
