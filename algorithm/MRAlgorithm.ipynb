{
 "cells": [
  {
   "cell_type": "code",
   "execution_count": 1,
   "id": "44e12418",
   "metadata": {},
   "outputs": [],
   "source": [
    "# Make necessary imports\n",
    "from pyspark import SparkConf\n",
    "from pyspark.context import SparkContext"
   ]
  },
  {
   "cell_type": "code",
   "execution_count": 2,
   "id": "00ab8747",
   "metadata": {},
   "outputs": [
    {
     "name": "stderr",
     "output_type": "stream",
     "text": [
      "22/02/10 07:03:47 WARN Utils: Your hostname, Kamiels-MacBook-Air.local resolves to a loopback address: 127.0.0.1; using 129.104.243.21 instead (on interface en0)\n",
      "22/02/10 07:03:47 WARN Utils: Set SPARK_LOCAL_IP if you need to bind to another address\n",
      "Using Spark's default log4j profile: org/apache/spark/log4j-defaults.properties\n",
      "Setting default log level to \"WARN\".\n",
      "To adjust logging level use sc.setLogLevel(newLevel). For SparkR, use setLogLevel(newLevel).\n",
      "22/02/10 07:03:48 WARN NativeCodeLoader: Unable to load native-hadoop library for your platform... using builtin-java classes where applicable\n"
     ]
    }
   ],
   "source": [
    "sc = SparkContext.getOrCreate(SparkConf().setMaster(\"local[*]\"))"
   ]
  },
  {
   "cell_type": "code",
   "execution_count": 45,
   "id": "32820306",
   "metadata": {},
   "outputs": [],
   "source": [
    "class MRAlgorithm:\n",
    "    def __init__(self, datapath):\n",
    "        self.sc = SparkContext.getOrCreate(SparkConf().setMaster(\"local[*]\"))\n",
    "        self.input = sc.textFile(datapath)\n",
    "        \n",
    "    def compute_W(self):\n",
    "        print(\"Compute W\")\n",
    "        \n",
    "    def compute_H(self):\n",
    "        print(\"Compute H\")\n",
    "        \n",
    "        # Define dummy H to continue with next operations\n",
    "        self.H = self.sc.parallelize([(1, [0.2,0.3,0.5]), (2, [0.1,0.7,0.2]), (3, [0.4,0.3,0.3]), (4, [0.5,0.1,0.4])])\n",
    "        \n",
    "    def assign_clusters(self):\n",
    "        #M10: Map user to cluster with highest probability\n",
    "        self.clusters = self.H.map(lambda x: (x[0], x[1].index(max(x[1]))))\n",
    "        \n",
    "        #M11: Emit a 1 for each user that is in a cluster\n",
    "        self.clustersizes = self.clusters.map(lambda x: (x[1], 1))\n",
    "        \n",
    "        #R11: Count the number of users per cluster\n",
    "        self.clustersizes = self.clustersizes.reduceByKey(lambda x,y: x+y)\n",
    "        \n",
    "    def RM2_distribution(self):\n",
    "        #M12: Emit each rating that a user gave\n",
    "        self.ratings = self.input.map(lambda x: (x[1], x[2]))\n",
    "        \n",
    "        #R12: Count ratings given by user\n",
    "        self.ratings = self.ratings.reduceByKey(lambda x,y: x+y)"
   ]
  },
  {
   "cell_type": "code",
   "execution_count": 46,
   "id": "f49124bc",
   "metadata": {},
   "outputs": [
    {
     "name": "stdout",
     "output_type": "stream",
     "text": [
      "Compute H\n"
     ]
    }
   ],
   "source": [
    "Algorithm = MRAlgorithm('../data/combined_data_1.txt')\n",
    "Algorithm.compute_H()\n",
    "Algorithm.assign_clusters()\n",
    "#Algorithm.RM2_distribution()"
   ]
  },
  {
   "cell_type": "code",
   "execution_count": 47,
   "id": "89b2727c",
   "metadata": {},
   "outputs": [
    {
     "name": "stderr",
     "output_type": "stream",
     "text": [
      "\r",
      "                                                                                \r"
     ]
    },
    {
     "data": {
      "text/plain": [
       "[(1, 2), (2, 1), (3, 0), (4, 0)]"
      ]
     },
     "execution_count": 47,
     "metadata": {},
     "output_type": "execute_result"
    }
   ],
   "source": [
    "Algorithm.clusters.collect()"
   ]
  },
  {
   "cell_type": "code",
   "execution_count": 48,
   "id": "858bf369",
   "metadata": {},
   "outputs": [
    {
     "data": {
      "text/plain": [
       "[(0, 2), (1, 1), (2, 1)]"
      ]
     },
     "execution_count": 48,
     "metadata": {},
     "output_type": "execute_result"
    }
   ],
   "source": [
    "Algorithm.clustersizes.collect()"
   ]
  },
  {
   "cell_type": "code",
   "execution_count": 44,
   "id": "d114b547",
   "metadata": {},
   "outputs": [],
   "source": [
    "#Algorithm.ratings.take(5)\n",
    "#Does not work yet"
   ]
  },
  {
   "cell_type": "code",
   "execution_count": null,
   "id": "54fe61cd",
   "metadata": {},
   "outputs": [],
   "source": []
  }
 ],
 "metadata": {
  "kernelspec": {
   "display_name": "Python 3 (ipykernel)",
   "language": "python",
   "name": "python3"
  },
  "language_info": {
   "codemirror_mode": {
    "name": "ipython",
    "version": 3
   },
   "file_extension": ".py",
   "mimetype": "text/x-python",
   "name": "python",
   "nbconvert_exporter": "python",
   "pygments_lexer": "ipython3",
   "version": "3.8.12"
  }
 },
 "nbformat": 4,
 "nbformat_minor": 5
}
